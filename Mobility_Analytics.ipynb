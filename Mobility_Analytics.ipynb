{
  "nbformat": 4,
  "nbformat_minor": 0,
  "metadata": {
    "kernelspec": {
      "display_name": "Python 3",
      "language": "python",
      "name": "python3"
    },
    "language_info": {
      "codemirror_mode": {
        "name": "ipython",
        "version": 3
      },
      "file_extension": ".py",
      "mimetype": "text/x-python",
      "name": "python",
      "nbconvert_exporter": "python",
      "pygments_lexer": "ipython3",
      "version": "3.7.3"
    },
    "colab": {
      "name": "Mobility Analytics.ipynb",
      "provenance": [],
      "collapsed_sections": []
    }
  },
  "cells": [
    {
      "cell_type": "code",
      "metadata": {
        "id": "SmtuaLKx22Be",
        "colab_type": "code",
        "colab": {}
      },
      "source": [
        "import pandas as pd\n",
        "import numpy as np\n",
        "import matplotlib.pyplot as plt\n"
      ],
      "execution_count": 0,
      "outputs": []
    },
    {
      "cell_type": "code",
      "metadata": {
        "id": "IohnD8-o22B0",
        "colab_type": "code",
        "colab": {}
      },
      "source": [
        "url='https://raw.githubusercontent.com/Shubham-1105/Analytics_Vidhya_Hackathon/master/train.csv'\n",
        "df=pd.read_csv(url)\n",
        "url1='https://raw.githubusercontent.com/Shubham-1105/Analytics_Vidhya_Hackathon/master/test.csv'\n",
        "df1=pd.read_csv(url1)\n"
      ],
      "execution_count": 0,
      "outputs": []
    },
    {
      "cell_type": "code",
      "metadata": {
        "id": "dHmebBGl22CN",
        "colab_type": "code",
        "outputId": "c85fee5f-0073-41f8-b1f8-91011df9e392",
        "colab": {
          "base_uri": "https://localhost:8080/",
          "height": 374
        }
      },
      "source": [
        "df.info()"
      ],
      "execution_count": 328,
      "outputs": [
        {
          "output_type": "stream",
          "text": [
            "<class 'pandas.core.frame.DataFrame'>\n",
            "RangeIndex: 131662 entries, 0 to 131661\n",
            "Data columns (total 14 columns):\n",
            " #   Column                       Non-Null Count   Dtype  \n",
            "---  ------                       --------------   -----  \n",
            " 0   Trip_ID                      131662 non-null  object \n",
            " 1   Trip_Distance                131662 non-null  float64\n",
            " 2   Type_of_Cab                  111452 non-null  object \n",
            " 3   Customer_Since_Months        125742 non-null  float64\n",
            " 4   Life_Style_Index             111469 non-null  float64\n",
            " 5   Confidence_Life_Style_Index  111469 non-null  object \n",
            " 6   Destination_Type             131662 non-null  object \n",
            " 7   Customer_Rating              131662 non-null  float64\n",
            " 8   Cancellation_Last_1Month     131662 non-null  int64  \n",
            " 9   Var1                         60632 non-null   float64\n",
            " 10  Var2                         131662 non-null  int64  \n",
            " 11  Var3                         131662 non-null  int64  \n",
            " 12  Gender                       131662 non-null  object \n",
            " 13  Surge_Pricing_Type           131662 non-null  int64  \n",
            "dtypes: float64(5), int64(4), object(5)\n",
            "memory usage: 14.1+ MB\n"
          ],
          "name": "stdout"
        }
      ]
    },
    {
      "cell_type": "code",
      "metadata": {
        "id": "499DmQ0e22Cb",
        "colab_type": "code",
        "outputId": "cec6f244-59af-4458-9dc1-7189dfa52284",
        "colab": {
          "base_uri": "https://localhost:8080/",
          "height": 224
        }
      },
      "source": [
        "df.head()"
      ],
      "execution_count": 329,
      "outputs": [
        {
          "output_type": "execute_result",
          "data": {
            "text/html": [
              "<div>\n",
              "<style scoped>\n",
              "    .dataframe tbody tr th:only-of-type {\n",
              "        vertical-align: middle;\n",
              "    }\n",
              "\n",
              "    .dataframe tbody tr th {\n",
              "        vertical-align: top;\n",
              "    }\n",
              "\n",
              "    .dataframe thead th {\n",
              "        text-align: right;\n",
              "    }\n",
              "</style>\n",
              "<table border=\"1\" class=\"dataframe\">\n",
              "  <thead>\n",
              "    <tr style=\"text-align: right;\">\n",
              "      <th></th>\n",
              "      <th>Trip_ID</th>\n",
              "      <th>Trip_Distance</th>\n",
              "      <th>Type_of_Cab</th>\n",
              "      <th>Customer_Since_Months</th>\n",
              "      <th>Life_Style_Index</th>\n",
              "      <th>Confidence_Life_Style_Index</th>\n",
              "      <th>Destination_Type</th>\n",
              "      <th>Customer_Rating</th>\n",
              "      <th>Cancellation_Last_1Month</th>\n",
              "      <th>Var1</th>\n",
              "      <th>Var2</th>\n",
              "      <th>Var3</th>\n",
              "      <th>Gender</th>\n",
              "      <th>Surge_Pricing_Type</th>\n",
              "    </tr>\n",
              "  </thead>\n",
              "  <tbody>\n",
              "    <tr>\n",
              "      <th>0</th>\n",
              "      <td>T0005689460</td>\n",
              "      <td>6.77</td>\n",
              "      <td>B</td>\n",
              "      <td>1.0</td>\n",
              "      <td>2.42769</td>\n",
              "      <td>A</td>\n",
              "      <td>A</td>\n",
              "      <td>3.90500</td>\n",
              "      <td>0</td>\n",
              "      <td>40.0</td>\n",
              "      <td>46</td>\n",
              "      <td>60</td>\n",
              "      <td>Female</td>\n",
              "      <td>2</td>\n",
              "    </tr>\n",
              "    <tr>\n",
              "      <th>1</th>\n",
              "      <td>T0005689461</td>\n",
              "      <td>29.47</td>\n",
              "      <td>B</td>\n",
              "      <td>10.0</td>\n",
              "      <td>2.78245</td>\n",
              "      <td>B</td>\n",
              "      <td>A</td>\n",
              "      <td>3.45000</td>\n",
              "      <td>0</td>\n",
              "      <td>38.0</td>\n",
              "      <td>56</td>\n",
              "      <td>78</td>\n",
              "      <td>Male</td>\n",
              "      <td>2</td>\n",
              "    </tr>\n",
              "    <tr>\n",
              "      <th>2</th>\n",
              "      <td>T0005689464</td>\n",
              "      <td>41.58</td>\n",
              "      <td>NaN</td>\n",
              "      <td>10.0</td>\n",
              "      <td>NaN</td>\n",
              "      <td>NaN</td>\n",
              "      <td>E</td>\n",
              "      <td>3.50125</td>\n",
              "      <td>2</td>\n",
              "      <td>NaN</td>\n",
              "      <td>56</td>\n",
              "      <td>77</td>\n",
              "      <td>Male</td>\n",
              "      <td>2</td>\n",
              "    </tr>\n",
              "    <tr>\n",
              "      <th>3</th>\n",
              "      <td>T0005689465</td>\n",
              "      <td>61.56</td>\n",
              "      <td>C</td>\n",
              "      <td>10.0</td>\n",
              "      <td>NaN</td>\n",
              "      <td>NaN</td>\n",
              "      <td>A</td>\n",
              "      <td>3.45375</td>\n",
              "      <td>0</td>\n",
              "      <td>NaN</td>\n",
              "      <td>52</td>\n",
              "      <td>74</td>\n",
              "      <td>Male</td>\n",
              "      <td>3</td>\n",
              "    </tr>\n",
              "    <tr>\n",
              "      <th>4</th>\n",
              "      <td>T0005689467</td>\n",
              "      <td>54.95</td>\n",
              "      <td>C</td>\n",
              "      <td>10.0</td>\n",
              "      <td>3.03453</td>\n",
              "      <td>B</td>\n",
              "      <td>A</td>\n",
              "      <td>3.40250</td>\n",
              "      <td>4</td>\n",
              "      <td>51.0</td>\n",
              "      <td>49</td>\n",
              "      <td>102</td>\n",
              "      <td>Male</td>\n",
              "      <td>2</td>\n",
              "    </tr>\n",
              "  </tbody>\n",
              "</table>\n",
              "</div>"
            ],
            "text/plain": [
              "       Trip_ID  Trip_Distance Type_of_Cab  ...  Var3  Gender Surge_Pricing_Type\n",
              "0  T0005689460           6.77           B  ...    60  Female                  2\n",
              "1  T0005689461          29.47           B  ...    78    Male                  2\n",
              "2  T0005689464          41.58         NaN  ...    77    Male                  2\n",
              "3  T0005689465          61.56           C  ...    74    Male                  3\n",
              "4  T0005689467          54.95           C  ...   102    Male                  2\n",
              "\n",
              "[5 rows x 14 columns]"
            ]
          },
          "metadata": {
            "tags": []
          },
          "execution_count": 329
        }
      ]
    },
    {
      "cell_type": "code",
      "metadata": {
        "id": "7bUrbVY622Cn",
        "colab_type": "code",
        "outputId": "233966d7-a03b-4605-ca62-23ac8ea0cc16",
        "colab": {
          "base_uri": "https://localhost:8080/",
          "height": 317
        }
      },
      "source": [
        "df.describe()"
      ],
      "execution_count": 330,
      "outputs": [
        {
          "output_type": "execute_result",
          "data": {
            "text/html": [
              "<div>\n",
              "<style scoped>\n",
              "    .dataframe tbody tr th:only-of-type {\n",
              "        vertical-align: middle;\n",
              "    }\n",
              "\n",
              "    .dataframe tbody tr th {\n",
              "        vertical-align: top;\n",
              "    }\n",
              "\n",
              "    .dataframe thead th {\n",
              "        text-align: right;\n",
              "    }\n",
              "</style>\n",
              "<table border=\"1\" class=\"dataframe\">\n",
              "  <thead>\n",
              "    <tr style=\"text-align: right;\">\n",
              "      <th></th>\n",
              "      <th>Trip_Distance</th>\n",
              "      <th>Customer_Since_Months</th>\n",
              "      <th>Life_Style_Index</th>\n",
              "      <th>Customer_Rating</th>\n",
              "      <th>Cancellation_Last_1Month</th>\n",
              "      <th>Var1</th>\n",
              "      <th>Var2</th>\n",
              "      <th>Var3</th>\n",
              "      <th>Surge_Pricing_Type</th>\n",
              "    </tr>\n",
              "  </thead>\n",
              "  <tbody>\n",
              "    <tr>\n",
              "      <th>count</th>\n",
              "      <td>131662.000000</td>\n",
              "      <td>125742.000000</td>\n",
              "      <td>111469.000000</td>\n",
              "      <td>131662.000000</td>\n",
              "      <td>131662.000000</td>\n",
              "      <td>60632.000000</td>\n",
              "      <td>131662.000000</td>\n",
              "      <td>131662.000000</td>\n",
              "      <td>131662.000000</td>\n",
              "    </tr>\n",
              "    <tr>\n",
              "      <th>mean</th>\n",
              "      <td>44.200909</td>\n",
              "      <td>6.016661</td>\n",
              "      <td>2.802064</td>\n",
              "      <td>2.849458</td>\n",
              "      <td>0.782838</td>\n",
              "      <td>64.202698</td>\n",
              "      <td>51.202800</td>\n",
              "      <td>75.099019</td>\n",
              "      <td>2.155747</td>\n",
              "    </tr>\n",
              "    <tr>\n",
              "      <th>std</th>\n",
              "      <td>25.522882</td>\n",
              "      <td>3.626887</td>\n",
              "      <td>0.225796</td>\n",
              "      <td>0.980675</td>\n",
              "      <td>1.037559</td>\n",
              "      <td>21.820447</td>\n",
              "      <td>4.986142</td>\n",
              "      <td>11.578278</td>\n",
              "      <td>0.738164</td>\n",
              "    </tr>\n",
              "    <tr>\n",
              "      <th>min</th>\n",
              "      <td>0.310000</td>\n",
              "      <td>0.000000</td>\n",
              "      <td>1.596380</td>\n",
              "      <td>0.001250</td>\n",
              "      <td>0.000000</td>\n",
              "      <td>30.000000</td>\n",
              "      <td>40.000000</td>\n",
              "      <td>52.000000</td>\n",
              "      <td>1.000000</td>\n",
              "    </tr>\n",
              "    <tr>\n",
              "      <th>25%</th>\n",
              "      <td>24.580000</td>\n",
              "      <td>3.000000</td>\n",
              "      <td>2.654730</td>\n",
              "      <td>2.152500</td>\n",
              "      <td>0.000000</td>\n",
              "      <td>46.000000</td>\n",
              "      <td>48.000000</td>\n",
              "      <td>67.000000</td>\n",
              "      <td>2.000000</td>\n",
              "    </tr>\n",
              "    <tr>\n",
              "      <th>50%</th>\n",
              "      <td>38.200000</td>\n",
              "      <td>6.000000</td>\n",
              "      <td>2.798050</td>\n",
              "      <td>2.895000</td>\n",
              "      <td>0.000000</td>\n",
              "      <td>61.000000</td>\n",
              "      <td>50.000000</td>\n",
              "      <td>74.000000</td>\n",
              "      <td>2.000000</td>\n",
              "    </tr>\n",
              "    <tr>\n",
              "      <th>75%</th>\n",
              "      <td>60.730000</td>\n",
              "      <td>10.000000</td>\n",
              "      <td>2.946780</td>\n",
              "      <td>3.582500</td>\n",
              "      <td>1.000000</td>\n",
              "      <td>80.000000</td>\n",
              "      <td>54.000000</td>\n",
              "      <td>82.000000</td>\n",
              "      <td>3.000000</td>\n",
              "    </tr>\n",
              "    <tr>\n",
              "      <th>max</th>\n",
              "      <td>109.230000</td>\n",
              "      <td>10.000000</td>\n",
              "      <td>4.875110</td>\n",
              "      <td>5.000000</td>\n",
              "      <td>8.000000</td>\n",
              "      <td>210.000000</td>\n",
              "      <td>124.000000</td>\n",
              "      <td>206.000000</td>\n",
              "      <td>3.000000</td>\n",
              "    </tr>\n",
              "  </tbody>\n",
              "</table>\n",
              "</div>"
            ],
            "text/plain": [
              "       Trip_Distance  Customer_Since_Months  ...           Var3  Surge_Pricing_Type\n",
              "count  131662.000000          125742.000000  ...  131662.000000       131662.000000\n",
              "mean       44.200909               6.016661  ...      75.099019            2.155747\n",
              "std        25.522882               3.626887  ...      11.578278            0.738164\n",
              "min         0.310000               0.000000  ...      52.000000            1.000000\n",
              "25%        24.580000               3.000000  ...      67.000000            2.000000\n",
              "50%        38.200000               6.000000  ...      74.000000            2.000000\n",
              "75%        60.730000              10.000000  ...      82.000000            3.000000\n",
              "max       109.230000              10.000000  ...     206.000000            3.000000\n",
              "\n",
              "[8 rows x 9 columns]"
            ]
          },
          "metadata": {
            "tags": []
          },
          "execution_count": 330
        }
      ]
    },
    {
      "cell_type": "code",
      "metadata": {
        "id": "TYVZjSeH22C0",
        "colab_type": "code",
        "outputId": "4cc075f5-a15e-4750-c6a4-93c35a454000",
        "colab": {
          "base_uri": "https://localhost:8080/",
          "height": 34
        }
      },
      "source": [
        "df.shape\n"
      ],
      "execution_count": 331,
      "outputs": [
        {
          "output_type": "execute_result",
          "data": {
            "text/plain": [
              "(131662, 14)"
            ]
          },
          "metadata": {
            "tags": []
          },
          "execution_count": 331
        }
      ]
    },
    {
      "cell_type": "code",
      "metadata": {
        "id": "TpZxWXQK22DH",
        "colab_type": "code",
        "outputId": "1e52f8d9-1983-4dd9-8588-f762e0995030",
        "colab": {
          "base_uri": "https://localhost:8080/",
          "height": 102
        }
      },
      "source": [
        "df.columns\n"
      ],
      "execution_count": 332,
      "outputs": [
        {
          "output_type": "execute_result",
          "data": {
            "text/plain": [
              "Index(['Trip_ID', 'Trip_Distance', 'Type_of_Cab', 'Customer_Since_Months',\n",
              "       'Life_Style_Index', 'Confidence_Life_Style_Index', 'Destination_Type',\n",
              "       'Customer_Rating', 'Cancellation_Last_1Month', 'Var1', 'Var2', 'Var3',\n",
              "       'Gender', 'Surge_Pricing_Type'],\n",
              "      dtype='object')"
            ]
          },
          "metadata": {
            "tags": []
          },
          "execution_count": 332
        }
      ]
    },
    {
      "cell_type": "code",
      "metadata": {
        "id": "AhQfkVHL22Db",
        "colab_type": "code",
        "outputId": "8274a7ea-4f49-491d-d76a-d9571f780ab8",
        "colab": {
          "base_uri": "https://localhost:8080/",
          "height": 34
        }
      },
      "source": [
        "df.index"
      ],
      "execution_count": 333,
      "outputs": [
        {
          "output_type": "execute_result",
          "data": {
            "text/plain": [
              "RangeIndex(start=0, stop=131662, step=1)"
            ]
          },
          "metadata": {
            "tags": []
          },
          "execution_count": 333
        }
      ]
    },
    {
      "cell_type": "code",
      "metadata": {
        "id": "h5WP8v1W22Dm",
        "colab_type": "code",
        "outputId": "2b915543-a4b5-4da5-ac72-a838e3ac343f",
        "colab": {
          "base_uri": "https://localhost:8080/",
          "height": 265
        }
      },
      "source": [
        "#df.sort_values(coulmn Name)\n",
        "df['Customer_Rating'].hist(bins=20)\n",
        "plt.show()\n",
        "\n"
      ],
      "execution_count": 334,
      "outputs": [
        {
          "output_type": "display_data",
          "data": {
            "image/png": "[encoded data removed]",
            "text/plain": [
              "<Figure size 432x288 with 1 Axes>"
            ]
          },
          "metadata": {
            "tags": [],
            "needs_background": "light"
          }
        }
      ]
    },
    {
      "cell_type": "code",
      "metadata": {
        "id": "Gg-saVxq22Dy",
        "colab_type": "code",
        "outputId": "0d09941f-b89a-4920-85f6-707c0b716873",
        "colab": {
          "base_uri": "https://localhost:8080/",
          "height": 754
        }
      },
      "source": [
        "df.isna().sum().plot(kind=\"bar\")\n",
        "plt.show()\n",
        "#Solution to missing values\n",
        "#df.dropna()\n",
        "#df.fillna()\n",
        "df.info()\n",
        "\n"
      ],
      "execution_count": 335,
      "outputs": [
        {
          "output_type": "display_data",
          "data": {
            "image/png": "[encoded data removed]",
            "text/plain": [
              "<Figure size 432x288 with 1 Axes>"
            ]
          },
          "metadata": {
            "tags": [],
            "needs_background": "light"
          }
        },
        {
          "output_type": "stream",
          "text": [
            "<class 'pandas.core.frame.DataFrame'>\n",
            "RangeIndex: 131662 entries, 0 to 131661\n",
            "Data columns (total 14 columns):\n",
            " #   Column                       Non-Null Count   Dtype  \n",
            "---  ------                       --------------   -----  \n",
            " 0   Trip_ID                      131662 non-null  object \n",
            " 1   Trip_Distance                131662 non-null  float64\n",
            " 2   Type_of_Cab                  111452 non-null  object \n",
            " 3   Customer_Since_Months        125742 non-null  float64\n",
            " 4   Life_Style_Index             111469 non-null  float64\n",
            " 5   Confidence_Life_Style_Index  111469 non-null  object \n",
            " 6   Destination_Type             131662 non-null  object \n",
            " 7   Customer_Rating              131662 non-null  float64\n",
            " 8   Cancellation_Last_1Month     131662 non-null  int64  \n",
            " 9   Var1                         60632 non-null   float64\n",
            " 10  Var2                         131662 non-null  int64  \n",
            " 11  Var3                         131662 non-null  int64  \n",
            " 12  Gender                       131662 non-null  object \n",
            " 13  Surge_Pricing_Type           131662 non-null  int64  \n",
            "dtypes: float64(5), int64(4), object(5)\n",
            "memory usage: 14.1+ MB\n"
          ],
          "name": "stdout"
        }
      ]
    },
    {
      "cell_type": "code",
      "metadata": {
        "id": "G5OqD_1fMeD_",
        "colab_type": "code",
        "colab": {}
      },
      "source": [
        "#Splitting into feature dependent and independent\n",
        "x=df.drop(['Trip_ID','Surge_Pricing_Type'],axis=1)\n"
      ],
      "execution_count": 0,
      "outputs": []
    },
    {
      "cell_type": "code",
      "metadata": {
        "id": "wp3N1McBOUd4",
        "colab_type": "code",
        "outputId": "fdb0d103-67cf-4491-c046-b3e6d3cd2a2f",
        "colab": {
          "base_uri": "https://localhost:8080/",
          "height": 238
        }
      },
      "source": [
        "from sklearn.impute import SimpleImputer\n",
        "imputer=SimpleImputer(missing_values=np.nan,strategy='most_frequent')\n",
        "x[['Type_of_Cab','Confidence_Life_Style_Index']]=imputer.fit_transform(x[['Type_of_Cab','Confidence_Life_Style_Index']])\n",
        "x.isna().sum()"
      ],
      "execution_count": 337,
      "outputs": [
        {
          "output_type": "execute_result",
          "data": {
            "text/plain": [
              "Trip_Distance                      0\n",
              "Type_of_Cab                        0\n",
              "Customer_Since_Months           5920\n",
              "Life_Style_Index               20193\n",
              "Confidence_Life_Style_Index        0\n",
              "Destination_Type                   0\n",
              "Customer_Rating                    0\n",
              "Cancellation_Last_1Month           0\n",
              "Var1                           71030\n",
              "Var2                               0\n",
              "Var3                               0\n",
              "Gender                             0\n",
              "dtype: int64"
            ]
          },
          "metadata": {
            "tags": []
          },
          "execution_count": 337
        }
      ]
    },
    {
      "cell_type": "markdown",
      "metadata": {
        "id": "ZQO2qbVB22EA",
        "colab_type": "raw"
      },
      "source": [
        "Dealing with Missing Values\n",
        "None and np.nan\n",
        "np.isnan(np.nan)\n",
        "import missingno as msno"
      ]
    },
    {
      "cell_type": "code",
      "metadata": {
        "id": "NMP2GiM522EC",
        "colab_type": "code",
        "outputId": "50ba7f38-4ff0-46b1-d85a-7158eca8e0ed",
        "colab": {
          "base_uri": "https://localhost:8080/",
          "height": 238
        }
      },
      "source": [
        "from sklearn.impute import SimpleImputer\n",
        "imputer=SimpleImputer(missing_values=np.nan,strategy='mean')\n",
        "x[['Customer_Since_Months','Life_Style_Index','Var1']]=imputer.fit_transform(x[['Customer_Since_Months','Life_Style_Index','Var1']])\n",
        "x.isna().sum()\n",
        "\n"
      ],
      "execution_count": 338,
      "outputs": [
        {
          "output_type": "execute_result",
          "data": {
            "text/plain": [
              "Trip_Distance                  0\n",
              "Type_of_Cab                    0\n",
              "Customer_Since_Months          0\n",
              "Life_Style_Index               0\n",
              "Confidence_Life_Style_Index    0\n",
              "Destination_Type               0\n",
              "Customer_Rating                0\n",
              "Cancellation_Last_1Month       0\n",
              "Var1                           0\n",
              "Var2                           0\n",
              "Var3                           0\n",
              "Gender                         0\n",
              "dtype: int64"
            ]
          },
          "metadata": {
            "tags": []
          },
          "execution_count": 338
        }
      ]
    },
    {
      "cell_type": "code",
      "metadata": {
        "id": "9rzLE60oK5HS",
        "colab_type": "code",
        "colab": {}
      },
      "source": [
        "#Encoding the caftegorical variables\n",
        "from sklearn.preprocessing import LabelEncoder\n",
        "labelencoder=LabelEncoder()\n",
        "x['Type_of_Cab']=labelencoder.fit_transform(x['Type_of_Cab'])\n",
        "x['Confidence_Life_Style_Index']=labelencoder.fit_transform(x['Confidence_Life_Style_Index'])\n",
        "x['Destination_Type']=labelencoder.fit_transform(x['Destination_Type'])\n",
        "x['Gender']=labelencoder.fit_transform(x['Gender'])\n"
      ],
      "execution_count": 0,
      "outputs": []
    },
    {
      "cell_type": "code",
      "metadata": {
        "id": "HRvMBjR75I1V",
        "colab_type": "code",
        "colab": {}
      },
      "source": [
        "#Normalizing the numerical data between 0 and 1\n",
        "#from sklearn.preprocessing import StandardScaler\n",
        "#scaler=StandardScaler()\n",
        "#numerical_data=['Trip_Distance','Customer_Since_Months','Life_Style_Index','Customer_Rating','Cancellation_Last_1Month','Var1','Var2','Var3']\n",
        "#x[numerical_data]=scaler.fit_transform(x[numerical_data])\n"
      ],
      "execution_count": 0,
      "outputs": []
    },
    {
      "cell_type": "code",
      "metadata": {
        "id": "Kae9VT41sthy",
        "colab_type": "code",
        "colab": {}
      },
      "source": [
        "y=df[\"Surge_Pricing_Type\"]\n",
        "\n"
      ],
      "execution_count": 0,
      "outputs": []
    },
    {
      "cell_type": "code",
      "metadata": {
        "id": "fD9bH9ERw3vA",
        "colab_type": "code",
        "colab": {}
      },
      "source": [
        "df_trip_id=df1['Trip_ID']\n",
        "df1=df1.drop('Trip_ID',axis=1)"
      ],
      "execution_count": 0,
      "outputs": []
    },
    {
      "cell_type": "code",
      "metadata": {
        "id": "rdvUNkkSHuN7",
        "colab_type": "code",
        "outputId": "ebdee2dd-5969-4991-8e2e-66495104549c",
        "colab": {
          "base_uri": "https://localhost:8080/",
          "height": 238
        }
      },
      "source": [
        "df1.isna().sum()"
      ],
      "execution_count": 343,
      "outputs": [
        {
          "output_type": "execute_result",
          "data": {
            "text/plain": [
              "Trip_Distance                      0\n",
              "Type_of_Cab                    13158\n",
              "Customer_Since_Months           3966\n",
              "Life_Style_Index               13327\n",
              "Confidence_Life_Style_Index    13327\n",
              "Destination_Type                   0\n",
              "Customer_Rating                    0\n",
              "Cancellation_Last_1Month           0\n",
              "Var1                           46789\n",
              "Var2                               0\n",
              "Var3                               0\n",
              "Gender                             0\n",
              "dtype: int64"
            ]
          },
          "metadata": {
            "tags": []
          },
          "execution_count": 343
        }
      ]
    },
    {
      "cell_type": "code",
      "metadata": {
        "id": "l0N3045qI_C9",
        "colab_type": "code",
        "outputId": "59104b40-a44c-4916-d630-7a2d35d8a799",
        "colab": {
          "base_uri": "https://localhost:8080/",
          "height": 439
        }
      },
      "source": [
        "#Handling missing and encoding categorical variables for test data\n",
        "from sklearn.impute import SimpleImputer\n",
        "imputer=SimpleImputer(missing_values=np.nan,strategy='most_frequent')\n",
        "df1[['Type_of_Cab','Confidence_Life_Style_Index']]=imputer.fit_transform(df1[['Type_of_Cab','Confidence_Life_Style_Index']])\n",
        "\n",
        "imputer=SimpleImputer(missing_values=np.nan,strategy='mean')\n",
        "df1[['Customer_Since_Months','Life_Style_Index','Var1']]=imputer.fit_transform(df1[['Customer_Since_Months','Life_Style_Index','Var1']])\n",
        "\n",
        "df1.isna().sum()\n",
        "\n",
        "#Encoding the caftegorical variables\n",
        "from sklearn.preprocessing import LabelEncoder\n",
        "labelencoder=LabelEncoder()\n",
        "df1['Type_of_Cab']=labelencoder.fit_transform(df1['Type_of_Cab'])\n",
        "df1['Confidence_Life_Style_Index']=labelencoder.fit_transform(df1['Confidence_Life_Style_Index'])\n",
        "df1['Destination_Type']=labelencoder.fit_transform(df1['Destination_Type'])\n",
        "df1['Gender']=labelencoder.fit_transform(df1['Gender'])\n",
        "df1\n"
      ],
      "execution_count": 344,
      "outputs": [
        {
          "output_type": "execute_result",
          "data": {
            "text/html": [
              "<div>\n",
              "<style scoped>\n",
              "    .dataframe tbody tr th:only-of-type {\n",
              "        vertical-align: middle;\n",
              "    }\n",
              "\n",
              "    .dataframe tbody tr th {\n",
              "        vertical-align: top;\n",
              "    }\n",
              "\n",
              "    .dataframe thead th {\n",
              "        text-align: right;\n",
              "    }\n",
              "</style>\n",
              "<table border=\"1\" class=\"dataframe\">\n",
              "  <thead>\n",
              "    <tr style=\"text-align: right;\">\n",
              "      <th></th>\n",
              "      <th>Trip_Distance</th>\n",
              "      <th>Type_of_Cab</th>\n",
              "      <th>Customer_Since_Months</th>\n",
              "      <th>Life_Style_Index</th>\n",
              "      <th>Confidence_Life_Style_Index</th>\n",
              "      <th>Destination_Type</th>\n",
              "      <th>Customer_Rating</th>\n",
              "      <th>Cancellation_Last_1Month</th>\n",
              "      <th>Var1</th>\n",
              "      <th>Var2</th>\n",
              "      <th>Var3</th>\n",
              "      <th>Gender</th>\n",
              "    </tr>\n",
              "  </thead>\n",
              "  <tbody>\n",
              "    <tr>\n",
              "      <th>0</th>\n",
              "      <td>9.44</td>\n",
              "      <td>0</td>\n",
              "      <td>10.0</td>\n",
              "      <td>2.574380</td>\n",
              "      <td>0</td>\n",
              "      <td>1</td>\n",
              "      <td>3.68000</td>\n",
              "      <td>2</td>\n",
              "      <td>63.93661</td>\n",
              "      <td>46</td>\n",
              "      <td>63</td>\n",
              "      <td>1</td>\n",
              "    </tr>\n",
              "    <tr>\n",
              "      <th>1</th>\n",
              "      <td>32.15</td>\n",
              "      <td>1</td>\n",
              "      <td>10.0</td>\n",
              "      <td>2.851430</td>\n",
              "      <td>0</td>\n",
              "      <td>0</td>\n",
              "      <td>1.59375</td>\n",
              "      <td>0</td>\n",
              "      <td>65.00000</td>\n",
              "      <td>49</td>\n",
              "      <td>80</td>\n",
              "      <td>0</td>\n",
              "    </tr>\n",
              "    <tr>\n",
              "      <th>2</th>\n",
              "      <td>10.38</td>\n",
              "      <td>2</td>\n",
              "      <td>4.0</td>\n",
              "      <td>2.705300</td>\n",
              "      <td>0</td>\n",
              "      <td>3</td>\n",
              "      <td>4.50500</td>\n",
              "      <td>0</td>\n",
              "      <td>63.93661</td>\n",
              "      <td>47</td>\n",
              "      <td>74</td>\n",
              "      <td>1</td>\n",
              "    </tr>\n",
              "    <tr>\n",
              "      <th>3</th>\n",
              "      <td>14.94</td>\n",
              "      <td>1</td>\n",
              "      <td>6.0</td>\n",
              "      <td>2.481590</td>\n",
              "      <td>2</td>\n",
              "      <td>4</td>\n",
              "      <td>4.53000</td>\n",
              "      <td>0</td>\n",
              "      <td>63.00000</td>\n",
              "      <td>43</td>\n",
              "      <td>54</td>\n",
              "      <td>1</td>\n",
              "    </tr>\n",
              "    <tr>\n",
              "      <th>4</th>\n",
              "      <td>32.03</td>\n",
              "      <td>1</td>\n",
              "      <td>7.0</td>\n",
              "      <td>2.815980</td>\n",
              "      <td>0</td>\n",
              "      <td>10</td>\n",
              "      <td>4.60125</td>\n",
              "      <td>3</td>\n",
              "      <td>96.00000</td>\n",
              "      <td>44</td>\n",
              "      <td>56</td>\n",
              "      <td>1</td>\n",
              "    </tr>\n",
              "    <tr>\n",
              "      <th>...</th>\n",
              "      <td>...</td>\n",
              "      <td>...</td>\n",
              "      <td>...</td>\n",
              "      <td>...</td>\n",
              "      <td>...</td>\n",
              "      <td>...</td>\n",
              "      <td>...</td>\n",
              "      <td>...</td>\n",
              "      <td>...</td>\n",
              "      <td>...</td>\n",
              "      <td>...</td>\n",
              "      <td>...</td>\n",
              "    </tr>\n",
              "    <tr>\n",
              "      <th>87390</th>\n",
              "      <td>29.43</td>\n",
              "      <td>2</td>\n",
              "      <td>3.0</td>\n",
              "      <td>2.407200</td>\n",
              "      <td>2</td>\n",
              "      <td>0</td>\n",
              "      <td>0.99750</td>\n",
              "      <td>0</td>\n",
              "      <td>74.00000</td>\n",
              "      <td>48</td>\n",
              "      <td>72</td>\n",
              "      <td>0</td>\n",
              "    </tr>\n",
              "    <tr>\n",
              "      <th>87391</th>\n",
              "      <td>14.83</td>\n",
              "      <td>2</td>\n",
              "      <td>10.0</td>\n",
              "      <td>2.570090</td>\n",
              "      <td>0</td>\n",
              "      <td>3</td>\n",
              "      <td>4.74375</td>\n",
              "      <td>0</td>\n",
              "      <td>109.00000</td>\n",
              "      <td>42</td>\n",
              "      <td>60</td>\n",
              "      <td>0</td>\n",
              "    </tr>\n",
              "    <tr>\n",
              "      <th>87392</th>\n",
              "      <td>37.86</td>\n",
              "      <td>0</td>\n",
              "      <td>6.0</td>\n",
              "      <td>3.082270</td>\n",
              "      <td>2</td>\n",
              "      <td>0</td>\n",
              "      <td>1.63500</td>\n",
              "      <td>0</td>\n",
              "      <td>63.93661</td>\n",
              "      <td>57</td>\n",
              "      <td>77</td>\n",
              "      <td>1</td>\n",
              "    </tr>\n",
              "    <tr>\n",
              "      <th>87393</th>\n",
              "      <td>10.63</td>\n",
              "      <td>2</td>\n",
              "      <td>1.0</td>\n",
              "      <td>2.803392</td>\n",
              "      <td>1</td>\n",
              "      <td>9</td>\n",
              "      <td>2.59875</td>\n",
              "      <td>1</td>\n",
              "      <td>107.00000</td>\n",
              "      <td>51</td>\n",
              "      <td>77</td>\n",
              "      <td>1</td>\n",
              "    </tr>\n",
              "    <tr>\n",
              "      <th>87394</th>\n",
              "      <td>37.96</td>\n",
              "      <td>1</td>\n",
              "      <td>10.0</td>\n",
              "      <td>3.002740</td>\n",
              "      <td>0</td>\n",
              "      <td>0</td>\n",
              "      <td>2.05500</td>\n",
              "      <td>0</td>\n",
              "      <td>63.93661</td>\n",
              "      <td>48</td>\n",
              "      <td>73</td>\n",
              "      <td>0</td>\n",
              "    </tr>\n",
              "  </tbody>\n",
              "</table>\n",
              "<p>87395 rows × 12 columns</p>\n",
              "</div>"
            ],
            "text/plain": [
              "       Trip_Distance  Type_of_Cab  Customer_Since_Months  ...  Var2  Var3  Gender\n",
              "0               9.44            0                   10.0  ...    46    63       1\n",
              "1              32.15            1                   10.0  ...    49    80       0\n",
              "2              10.38            2                    4.0  ...    47    74       1\n",
              "3              14.94            1                    6.0  ...    43    54       1\n",
              "4              32.03            1                    7.0  ...    44    56       1\n",
              "...              ...          ...                    ...  ...   ...   ...     ...\n",
              "87390          29.43            2                    3.0  ...    48    72       0\n",
              "87391          14.83            2                   10.0  ...    42    60       0\n",
              "87392          37.86            0                    6.0  ...    57    77       1\n",
              "87393          10.63            2                    1.0  ...    51    77       1\n",
              "87394          37.96            1                   10.0  ...    48    73       0\n",
              "\n",
              "[87395 rows x 12 columns]"
            ]
          },
          "metadata": {
            "tags": []
          },
          "execution_count": 344
        }
      ]
    },
    {
      "cell_type": "code",
      "metadata": {
        "id": "nIGMpjhdk8LP",
        "colab_type": "code",
        "outputId": "5864ab33-126b-4152-877f-027c2362addb",
        "colab": {
          "base_uri": "https://localhost:8080/",
          "height": 136
        }
      },
      "source": [
        "from xgboost import XGBClassifier\n",
        "dtc=XGBClassifier()\n",
        "dtc.fit(x,y)"
      ],
      "execution_count": 372,
      "outputs": [
        {
          "output_type": "execute_result",
          "data": {
            "text/plain": [
              "XGBClassifier(base_score=0.5, booster='gbtree', colsample_bylevel=1,\n",
              "              colsample_bynode=1, colsample_bytree=1, gamma=0,\n",
              "              learning_rate=0.1, max_delta_step=0, max_depth=3,\n",
              "              min_child_weight=1, missing=None, n_estimators=100, n_jobs=1,\n",
              "              nthread=None, objective='multi:softprob', random_state=0,\n",
              "              reg_alpha=0, reg_lambda=1, scale_pos_weight=1, seed=None,\n",
              "              silent=None, subsample=1, verbosity=1)"
            ]
          },
          "metadata": {
            "tags": []
          },
          "execution_count": 372
        }
      ]
    },
    {
      "cell_type": "code",
      "metadata": {
        "id": "cb59LO2NwWhU",
        "colab_type": "code",
        "colab": {}
      },
      "source": [
        "y_pred=dtc.predict(df1)\n",
        "t=pd.Series(y_pred)\n"
      ],
      "execution_count": 0,
      "outputs": []
    },
    {
      "cell_type": "code",
      "metadata": {
        "id": "5FG77Q-_fnVi",
        "colab_type": "code",
        "colab": {
          "base_uri": "https://localhost:8080/",
          "height": 419
        },
        "outputId": "442b3561-5752-4074-c6a2-3edb694a636b"
      },
      "source": [
        "sam=pd.concat([df_trip_id,t],axis=1,ignore_index=True)\n",
        "sam"
      ],
      "execution_count": 374,
      "outputs": [
        {
          "output_type": "execute_result",
          "data": {
            "text/html": [
              "<div>\n",
              "<style scoped>\n",
              "    .dataframe tbody tr th:only-of-type {\n",
              "        vertical-align: middle;\n",
              "    }\n",
              "\n",
              "    .dataframe tbody tr th {\n",
              "        vertical-align: top;\n",
              "    }\n",
              "\n",
              "    .dataframe thead th {\n",
              "        text-align: right;\n",
              "    }\n",
              "</style>\n",
              "<table border=\"1\" class=\"dataframe\">\n",
              "  <thead>\n",
              "    <tr style=\"text-align: right;\">\n",
              "      <th></th>\n",
              "      <th>0</th>\n",
              "      <th>1</th>\n",
              "    </tr>\n",
              "  </thead>\n",
              "  <tbody>\n",
              "    <tr>\n",
              "      <th>0</th>\n",
              "      <td>T0005689459</td>\n",
              "      <td>1</td>\n",
              "    </tr>\n",
              "    <tr>\n",
              "      <th>1</th>\n",
              "      <td>T0005689462</td>\n",
              "      <td>2</td>\n",
              "    </tr>\n",
              "    <tr>\n",
              "      <th>2</th>\n",
              "      <td>T0005689463</td>\n",
              "      <td>2</td>\n",
              "    </tr>\n",
              "    <tr>\n",
              "      <th>3</th>\n",
              "      <td>T0005689466</td>\n",
              "      <td>2</td>\n",
              "    </tr>\n",
              "    <tr>\n",
              "      <th>4</th>\n",
              "      <td>T0005689468</td>\n",
              "      <td>2</td>\n",
              "    </tr>\n",
              "    <tr>\n",
              "      <th>...</th>\n",
              "      <td>...</td>\n",
              "      <td>...</td>\n",
              "    </tr>\n",
              "    <tr>\n",
              "      <th>87390</th>\n",
              "      <td>T0005908503</td>\n",
              "      <td>2</td>\n",
              "    </tr>\n",
              "    <tr>\n",
              "      <th>87391</th>\n",
              "      <td>T0005908504</td>\n",
              "      <td>2</td>\n",
              "    </tr>\n",
              "    <tr>\n",
              "      <th>87392</th>\n",
              "      <td>T0005908505</td>\n",
              "      <td>1</td>\n",
              "    </tr>\n",
              "    <tr>\n",
              "      <th>87393</th>\n",
              "      <td>T0005908511</td>\n",
              "      <td>2</td>\n",
              "    </tr>\n",
              "    <tr>\n",
              "      <th>87394</th>\n",
              "      <td>T0005908515</td>\n",
              "      <td>2</td>\n",
              "    </tr>\n",
              "  </tbody>\n",
              "</table>\n",
              "<p>87395 rows × 2 columns</p>\n",
              "</div>"
            ],
            "text/plain": [
              "                 0  1\n",
              "0      T0005689459  1\n",
              "1      T0005689462  2\n",
              "2      T0005689463  2\n",
              "3      T0005689466  2\n",
              "4      T0005689468  2\n",
              "...            ... ..\n",
              "87390  T0005908503  2\n",
              "87391  T0005908504  2\n",
              "87392  T0005908505  1\n",
              "87393  T0005908511  2\n",
              "87394  T0005908515  2\n",
              "\n",
              "[87395 rows x 2 columns]"
            ]
          },
          "metadata": {
            "tags": []
          },
          "execution_count": 374
        }
      ]
    },
    {
      "cell_type": "code",
      "metadata": {
        "id": "jfKlGd9iiNau",
        "colab_type": "code",
        "colab": {}
      },
      "source": [
        "sam.to_csv('analytics.csv',header=['Trip_ID','Surge_Pricing_Type'],index=False)"
      ],
      "execution_count": 0,
      "outputs": []
    }
  ]
}