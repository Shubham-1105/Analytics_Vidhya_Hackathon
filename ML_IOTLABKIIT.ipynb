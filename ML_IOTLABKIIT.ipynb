{
  "nbformat": 4,
  "nbformat_minor": 0,
  "metadata": {
    "colab": {
      "name": "ML_IOTLABKIIT",
      "provenance": [],
      "collapsed_sections": []
    },
    "kernelspec": {
      "name": "python3",
      "display_name": "Python 3"
    }
  },
  "cells": [
    {
      "cell_type": "code",
      "metadata": {
        "id": "IZj_6B40B8Cm",
        "colab_type": "code",
        "colab": {
          "base_uri": "https://localhost:8080/",
          "height": 127
        },
        "outputId": "6f5062be-2feb-4f9a-fb6d-3eebd1c3d067"
      },
      "source": [
        "from google.colab import drive\n",
        "drive.mount('/content/drive')"
      ],
      "execution_count": 1,
      "outputs": [
        {
          "output_type": "stream",
          "text": [
            "Go to this URL in a browser: https://accounts.google.com/o/oauth2/auth?client_id=947318989803-6bn6qk8qdgf4n4g3pfee6491hc0brc4i.apps.googleusercontent.com&redirect_uri=urn%3aietf%3awg%3aoauth%3a2.0%3aoob&response_type=code&scope=email%20https%3a%2f%2fwww.googleapis.com%2fauth%2fdocs.test%20https%3a%2f%2fwww.googleapis.com%2fauth%2fdrive%20https%3a%2f%2fwww.googleapis.com%2fauth%2fdrive.photos.readonly%20https%3a%2f%2fwww.googleapis.com%2fauth%2fpeopleapi.readonly\n",
            "\n",
            "Enter your authorization code:\n",
            "··········\n",
            "Mounted at /content/drive\n"
          ],
          "name": "stdout"
        }
      ]
    },
    {
      "cell_type": "code",
      "metadata": {
        "id": "eRYV7SsmCiCX",
        "colab_type": "code",
        "colab": {
          "base_uri": "https://localhost:8080/",
          "height": 35
        },
        "outputId": "d9772a80-f1d9-45f2-e3e9-74b9999a278b"
      },
      "source": [
        "%cd 'drive/My Drive'"
      ],
      "execution_count": 2,
      "outputs": [
        {
          "output_type": "stream",
          "text": [
            "/content/drive/My Drive\n"
          ],
          "name": "stdout"
        }
      ]
    },
    {
      "cell_type": "code",
      "metadata": {
        "id": "h4L7TRoACn9E",
        "colab_type": "code",
        "colab": {}
      },
      "source": [
        "import pandas as pd\n",
        "import numpy as np\n"
      ],
      "execution_count": 3,
      "outputs": []
    },
    {
      "cell_type": "code",
      "metadata": {
        "id": "1Jv5HTwTC3V9",
        "colab_type": "code",
        "colab": {}
      },
      "source": [
        "#Loading the Data\n",
        "df=pd.read_csv('AirplaneAccident.csv')"
      ],
      "execution_count": 4,
      "outputs": []
    },
    {
      "cell_type": "code",
      "metadata": {
        "id": "nWDYafMkC-CX",
        "colab_type": "code",
        "colab": {
          "base_uri": "https://localhost:8080/",
          "height": 224
        },
        "outputId": "1d89a6d5-0a7a-4509-d12c-2e2d1b4074a0"
      },
      "source": [
        "df.head()"
      ],
      "execution_count": 5,
      "outputs": [
        {
          "output_type": "execute_result",
          "data": {
            "text/html": [
              "<div>\n",
              "<style scoped>\n",
              "    .dataframe tbody tr th:only-of-type {\n",
              "        vertical-align: middle;\n",
              "    }\n",
              "\n",
              "    .dataframe tbody tr th {\n",
              "        vertical-align: top;\n",
              "    }\n",
              "\n",
              "    .dataframe thead th {\n",
              "        text-align: right;\n",
              "    }\n",
              "</style>\n",
              "<table border=\"1\" class=\"dataframe\">\n",
              "  <thead>\n",
              "    <tr style=\"text-align: right;\">\n",
              "      <th></th>\n",
              "      <th>Severity</th>\n",
              "      <th>Safety_Score</th>\n",
              "      <th>Days_Since_Inspection</th>\n",
              "      <th>Total_Safety_Complaints</th>\n",
              "      <th>Control_Metric</th>\n",
              "      <th>Turbulence_In_gforces</th>\n",
              "      <th>Cabin_Temperature</th>\n",
              "      <th>Accident_Type_Code</th>\n",
              "      <th>Max_Elevation</th>\n",
              "      <th>Violations</th>\n",
              "      <th>Adverse_Weather_Metric</th>\n",
              "      <th>Accident_ID</th>\n",
              "    </tr>\n",
              "  </thead>\n",
              "  <tbody>\n",
              "    <tr>\n",
              "      <th>0</th>\n",
              "      <td>Minor_Damage_And_Injuries</td>\n",
              "      <td>49.223744</td>\n",
              "      <td>14</td>\n",
              "      <td>22</td>\n",
              "      <td>71.285324</td>\n",
              "      <td>0.272118</td>\n",
              "      <td>78.04</td>\n",
              "      <td>2</td>\n",
              "      <td>31335.47682</td>\n",
              "      <td>3</td>\n",
              "      <td>0.424352</td>\n",
              "      <td>7570</td>\n",
              "    </tr>\n",
              "    <tr>\n",
              "      <th>1</th>\n",
              "      <td>Minor_Damage_And_Injuries</td>\n",
              "      <td>62.465753</td>\n",
              "      <td>10</td>\n",
              "      <td>27</td>\n",
              "      <td>72.288058</td>\n",
              "      <td>0.423939</td>\n",
              "      <td>84.54</td>\n",
              "      <td>2</td>\n",
              "      <td>26024.71106</td>\n",
              "      <td>2</td>\n",
              "      <td>0.352350</td>\n",
              "      <td>12128</td>\n",
              "    </tr>\n",
              "    <tr>\n",
              "      <th>2</th>\n",
              "      <td>Significant_Damage_And_Fatalities</td>\n",
              "      <td>63.059361</td>\n",
              "      <td>13</td>\n",
              "      <td>16</td>\n",
              "      <td>66.362808</td>\n",
              "      <td>0.322604</td>\n",
              "      <td>78.86</td>\n",
              "      <td>7</td>\n",
              "      <td>39269.05393</td>\n",
              "      <td>3</td>\n",
              "      <td>0.003364</td>\n",
              "      <td>2181</td>\n",
              "    </tr>\n",
              "    <tr>\n",
              "      <th>3</th>\n",
              "      <td>Significant_Damage_And_Serious_Injuries</td>\n",
              "      <td>48.082192</td>\n",
              "      <td>11</td>\n",
              "      <td>9</td>\n",
              "      <td>74.703737</td>\n",
              "      <td>0.337029</td>\n",
              "      <td>81.79</td>\n",
              "      <td>3</td>\n",
              "      <td>42771.49920</td>\n",
              "      <td>1</td>\n",
              "      <td>0.211728</td>\n",
              "      <td>5946</td>\n",
              "    </tr>\n",
              "    <tr>\n",
              "      <th>4</th>\n",
              "      <td>Significant_Damage_And_Fatalities</td>\n",
              "      <td>26.484018</td>\n",
              "      <td>13</td>\n",
              "      <td>25</td>\n",
              "      <td>47.948952</td>\n",
              "      <td>0.541140</td>\n",
              "      <td>77.16</td>\n",
              "      <td>3</td>\n",
              "      <td>35509.22852</td>\n",
              "      <td>2</td>\n",
              "      <td>0.176883</td>\n",
              "      <td>9054</td>\n",
              "    </tr>\n",
              "  </tbody>\n",
              "</table>\n",
              "</div>"
            ],
            "text/plain": [
              "                                  Severity  ...  Accident_ID\n",
              "0                Minor_Damage_And_Injuries  ...         7570\n",
              "1                Minor_Damage_And_Injuries  ...        12128\n",
              "2        Significant_Damage_And_Fatalities  ...         2181\n",
              "3  Significant_Damage_And_Serious_Injuries  ...         5946\n",
              "4        Significant_Damage_And_Fatalities  ...         9054\n",
              "\n",
              "[5 rows x 12 columns]"
            ]
          },
          "metadata": {
            "tags": []
          },
          "execution_count": 5
        }
      ]
    },
    {
      "cell_type": "code",
      "metadata": {
        "id": "OXQFBCkeC_M2",
        "colab_type": "code",
        "colab": {
          "base_uri": "https://localhost:8080/",
          "height": 359
        },
        "outputId": "3e82dc3f-94c5-49f2-b05e-985669b5f93c"
      },
      "source": [
        "df.info()"
      ],
      "execution_count": 6,
      "outputs": [
        {
          "output_type": "stream",
          "text": [
            "<class 'pandas.core.frame.DataFrame'>\n",
            "RangeIndex: 10000 entries, 0 to 9999\n",
            "Data columns (total 12 columns):\n",
            " #   Column                   Non-Null Count  Dtype  \n",
            "---  ------                   --------------  -----  \n",
            " 0   Severity                 10000 non-null  object \n",
            " 1   Safety_Score             10000 non-null  float64\n",
            " 2   Days_Since_Inspection    10000 non-null  int64  \n",
            " 3   Total_Safety_Complaints  10000 non-null  int64  \n",
            " 4   Control_Metric           10000 non-null  float64\n",
            " 5   Turbulence_In_gforces    10000 non-null  float64\n",
            " 6   Cabin_Temperature        10000 non-null  float64\n",
            " 7   Accident_Type_Code       10000 non-null  int64  \n",
            " 8   Max_Elevation            10000 non-null  float64\n",
            " 9   Violations               10000 non-null  int64  \n",
            " 10  Adverse_Weather_Metric   10000 non-null  float64\n",
            " 11  Accident_ID              10000 non-null  int64  \n",
            "dtypes: float64(6), int64(5), object(1)\n",
            "memory usage: 937.6+ KB\n"
          ],
          "name": "stdout"
        }
      ]
    },
    {
      "cell_type": "markdown",
      "metadata": {
        "id": "a64Nmm3_otxm",
        "colab_type": "text"
      },
      "source": [
        "We have No Missing Values\n"
      ]
    },
    {
      "cell_type": "code",
      "metadata": {
        "id": "UHU_HESMDB6s",
        "colab_type": "code",
        "colab": {
          "base_uri": "https://localhost:8080/",
          "height": 317
        },
        "outputId": "3675b1a6-70a4-4db3-9483-1008e1d452ee"
      },
      "source": [
        "df.describe()"
      ],
      "execution_count": 7,
      "outputs": [
        {
          "output_type": "execute_result",
          "data": {
            "text/html": [
              "<div>\n",
              "<style scoped>\n",
              "    .dataframe tbody tr th:only-of-type {\n",
              "        vertical-align: middle;\n",
              "    }\n",
              "\n",
              "    .dataframe tbody tr th {\n",
              "        vertical-align: top;\n",
              "    }\n",
              "\n",
              "    .dataframe thead th {\n",
              "        text-align: right;\n",
              "    }\n",
              "</style>\n",
              "<table border=\"1\" class=\"dataframe\">\n",
              "  <thead>\n",
              "    <tr style=\"text-align: right;\">\n",
              "      <th></th>\n",
              "      <th>Safety_Score</th>\n",
              "      <th>Days_Since_Inspection</th>\n",
              "      <th>Total_Safety_Complaints</th>\n",
              "      <th>Control_Metric</th>\n",
              "      <th>Turbulence_In_gforces</th>\n",
              "      <th>Cabin_Temperature</th>\n",
              "      <th>Accident_Type_Code</th>\n",
              "      <th>Max_Elevation</th>\n",
              "      <th>Violations</th>\n",
              "      <th>Adverse_Weather_Metric</th>\n",
              "      <th>Accident_ID</th>\n",
              "    </tr>\n",
              "  </thead>\n",
              "  <tbody>\n",
              "    <tr>\n",
              "      <th>count</th>\n",
              "      <td>10000.000000</td>\n",
              "      <td>10000.000000</td>\n",
              "      <td>10000.000000</td>\n",
              "      <td>10000.000000</td>\n",
              "      <td>10000.000000</td>\n",
              "      <td>10000.000000</td>\n",
              "      <td>10000.000000</td>\n",
              "      <td>10000.000000</td>\n",
              "      <td>10000.00000</td>\n",
              "      <td>10000.000000</td>\n",
              "      <td>10000.000000</td>\n",
              "    </tr>\n",
              "    <tr>\n",
              "      <th>mean</th>\n",
              "      <td>41.876406</td>\n",
              "      <td>12.931100</td>\n",
              "      <td>6.564300</td>\n",
              "      <td>65.145324</td>\n",
              "      <td>0.381495</td>\n",
              "      <td>79.969331</td>\n",
              "      <td>3.814900</td>\n",
              "      <td>32001.803282</td>\n",
              "      <td>2.01220</td>\n",
              "      <td>0.255635</td>\n",
              "      <td>6266.554200</td>\n",
              "    </tr>\n",
              "    <tr>\n",
              "      <th>std</th>\n",
              "      <td>16.138072</td>\n",
              "      <td>3.539803</td>\n",
              "      <td>6.971982</td>\n",
              "      <td>11.882934</td>\n",
              "      <td>0.121301</td>\n",
              "      <td>2.759739</td>\n",
              "      <td>1.902577</td>\n",
              "      <td>9431.995196</td>\n",
              "      <td>1.03998</td>\n",
              "      <td>0.381128</td>\n",
              "      <td>3610.170288</td>\n",
              "    </tr>\n",
              "    <tr>\n",
              "      <th>min</th>\n",
              "      <td>0.000000</td>\n",
              "      <td>1.000000</td>\n",
              "      <td>0.000000</td>\n",
              "      <td>0.000000</td>\n",
              "      <td>0.134000</td>\n",
              "      <td>74.740000</td>\n",
              "      <td>1.000000</td>\n",
              "      <td>831.695553</td>\n",
              "      <td>0.00000</td>\n",
              "      <td>0.000316</td>\n",
              "      <td>2.000000</td>\n",
              "    </tr>\n",
              "    <tr>\n",
              "      <th>25%</th>\n",
              "      <td>30.593607</td>\n",
              "      <td>11.000000</td>\n",
              "      <td>2.000000</td>\n",
              "      <td>56.927985</td>\n",
              "      <td>0.293665</td>\n",
              "      <td>77.960000</td>\n",
              "      <td>2.000000</td>\n",
              "      <td>25757.636910</td>\n",
              "      <td>1.00000</td>\n",
              "      <td>0.012063</td>\n",
              "      <td>3139.750000</td>\n",
              "    </tr>\n",
              "    <tr>\n",
              "      <th>50%</th>\n",
              "      <td>41.278539</td>\n",
              "      <td>13.000000</td>\n",
              "      <td>4.000000</td>\n",
              "      <td>65.587967</td>\n",
              "      <td>0.365879</td>\n",
              "      <td>79.540000</td>\n",
              "      <td>4.000000</td>\n",
              "      <td>32060.336420</td>\n",
              "      <td>2.00000</td>\n",
              "      <td>0.074467</td>\n",
              "      <td>6280.500000</td>\n",
              "    </tr>\n",
              "    <tr>\n",
              "      <th>75%</th>\n",
              "      <td>52.511416</td>\n",
              "      <td>15.000000</td>\n",
              "      <td>9.000000</td>\n",
              "      <td>73.336372</td>\n",
              "      <td>0.451346</td>\n",
              "      <td>81.560000</td>\n",
              "      <td>5.000000</td>\n",
              "      <td>38380.641515</td>\n",
              "      <td>3.00000</td>\n",
              "      <td>0.354059</td>\n",
              "      <td>9391.500000</td>\n",
              "    </tr>\n",
              "    <tr>\n",
              "      <th>max</th>\n",
              "      <td>100.000000</td>\n",
              "      <td>23.000000</td>\n",
              "      <td>54.000000</td>\n",
              "      <td>100.000000</td>\n",
              "      <td>0.882648</td>\n",
              "      <td>97.510000</td>\n",
              "      <td>7.000000</td>\n",
              "      <td>64297.651220</td>\n",
              "      <td>5.00000</td>\n",
              "      <td>2.365378</td>\n",
              "      <td>12500.000000</td>\n",
              "    </tr>\n",
              "  </tbody>\n",
              "</table>\n",
              "</div>"
            ],
            "text/plain": [
              "       Safety_Score  ...   Accident_ID\n",
              "count  10000.000000  ...  10000.000000\n",
              "mean      41.876406  ...   6266.554200\n",
              "std       16.138072  ...   3610.170288\n",
              "min        0.000000  ...      2.000000\n",
              "25%       30.593607  ...   3139.750000\n",
              "50%       41.278539  ...   6280.500000\n",
              "75%       52.511416  ...   9391.500000\n",
              "max      100.000000  ...  12500.000000\n",
              "\n",
              "[8 rows x 11 columns]"
            ]
          },
          "metadata": {
            "tags": []
          },
          "execution_count": 7
        }
      ]
    },
    {
      "cell_type": "code",
      "metadata": {
        "id": "SRvE2UBGDFTf",
        "colab_type": "code",
        "colab": {
          "base_uri": "https://localhost:8080/",
          "height": 410
        },
        "outputId": "e0111c89-c8cc-4deb-a254-808be90d7ac6"
      },
      "source": [
        "df.corr()"
      ],
      "execution_count": 8,
      "outputs": [
        {
          "output_type": "execute_result",
          "data": {
            "text/html": [
              "<div>\n",
              "<style scoped>\n",
              "    .dataframe tbody tr th:only-of-type {\n",
              "        vertical-align: middle;\n",
              "    }\n",
              "\n",
              "    .dataframe tbody tr th {\n",
              "        vertical-align: top;\n",
              "    }\n",
              "\n",
              "    .dataframe thead th {\n",
              "        text-align: right;\n",
              "    }\n",
              "</style>\n",
              "<table border=\"1\" class=\"dataframe\">\n",
              "  <thead>\n",
              "    <tr style=\"text-align: right;\">\n",
              "      <th></th>\n",
              "      <th>Safety_Score</th>\n",
              "      <th>Days_Since_Inspection</th>\n",
              "      <th>Total_Safety_Complaints</th>\n",
              "      <th>Control_Metric</th>\n",
              "      <th>Turbulence_In_gforces</th>\n",
              "      <th>Cabin_Temperature</th>\n",
              "      <th>Accident_Type_Code</th>\n",
              "      <th>Max_Elevation</th>\n",
              "      <th>Violations</th>\n",
              "      <th>Adverse_Weather_Metric</th>\n",
              "      <th>Accident_ID</th>\n",
              "    </tr>\n",
              "  </thead>\n",
              "  <tbody>\n",
              "    <tr>\n",
              "      <th>Safety_Score</th>\n",
              "      <td>1.000000</td>\n",
              "      <td>-0.685386</td>\n",
              "      <td>0.057726</td>\n",
              "      <td>0.000564</td>\n",
              "      <td>0.019603</td>\n",
              "      <td>0.032747</td>\n",
              "      <td>0.173930</td>\n",
              "      <td>0.004451</td>\n",
              "      <td>0.041735</td>\n",
              "      <td>-0.107925</td>\n",
              "      <td>-0.001334</td>\n",
              "    </tr>\n",
              "    <tr>\n",
              "      <th>Days_Since_Inspection</th>\n",
              "      <td>-0.685386</td>\n",
              "      <td>1.000000</td>\n",
              "      <td>-0.032055</td>\n",
              "      <td>-0.011963</td>\n",
              "      <td>-0.001564</td>\n",
              "      <td>-0.039140</td>\n",
              "      <td>-0.024718</td>\n",
              "      <td>0.000183</td>\n",
              "      <td>-0.016724</td>\n",
              "      <td>0.040804</td>\n",
              "      <td>0.000582</td>\n",
              "    </tr>\n",
              "    <tr>\n",
              "      <th>Total_Safety_Complaints</th>\n",
              "      <td>0.057726</td>\n",
              "      <td>-0.032055</td>\n",
              "      <td>1.000000</td>\n",
              "      <td>-0.019665</td>\n",
              "      <td>0.066412</td>\n",
              "      <td>0.013590</td>\n",
              "      <td>0.034927</td>\n",
              "      <td>0.036855</td>\n",
              "      <td>-0.019005</td>\n",
              "      <td>-0.002713</td>\n",
              "      <td>0.004527</td>\n",
              "    </tr>\n",
              "    <tr>\n",
              "      <th>Control_Metric</th>\n",
              "      <td>0.000564</td>\n",
              "      <td>-0.011963</td>\n",
              "      <td>-0.019665</td>\n",
              "      <td>1.000000</td>\n",
              "      <td>-0.643285</td>\n",
              "      <td>-0.008330</td>\n",
              "      <td>0.008385</td>\n",
              "      <td>-0.028375</td>\n",
              "      <td>-0.003284</td>\n",
              "      <td>-0.028296</td>\n",
              "      <td>0.006481</td>\n",
              "    </tr>\n",
              "    <tr>\n",
              "      <th>Turbulence_In_gforces</th>\n",
              "      <td>0.019603</td>\n",
              "      <td>-0.001564</td>\n",
              "      <td>0.066412</td>\n",
              "      <td>-0.643285</td>\n",
              "      <td>1.000000</td>\n",
              "      <td>0.010757</td>\n",
              "      <td>-0.007565</td>\n",
              "      <td>0.047625</td>\n",
              "      <td>0.013171</td>\n",
              "      <td>0.039802</td>\n",
              "      <td>-0.014396</td>\n",
              "    </tr>\n",
              "    <tr>\n",
              "      <th>Cabin_Temperature</th>\n",
              "      <td>0.032747</td>\n",
              "      <td>-0.039140</td>\n",
              "      <td>0.013590</td>\n",
              "      <td>-0.008330</td>\n",
              "      <td>0.010757</td>\n",
              "      <td>1.000000</td>\n",
              "      <td>0.030682</td>\n",
              "      <td>-0.009186</td>\n",
              "      <td>0.018619</td>\n",
              "      <td>-0.026647</td>\n",
              "      <td>0.014865</td>\n",
              "    </tr>\n",
              "    <tr>\n",
              "      <th>Accident_Type_Code</th>\n",
              "      <td>0.173930</td>\n",
              "      <td>-0.024718</td>\n",
              "      <td>0.034927</td>\n",
              "      <td>0.008385</td>\n",
              "      <td>-0.007565</td>\n",
              "      <td>0.030682</td>\n",
              "      <td>1.000000</td>\n",
              "      <td>0.019970</td>\n",
              "      <td>0.046379</td>\n",
              "      <td>-0.739361</td>\n",
              "      <td>-0.012278</td>\n",
              "    </tr>\n",
              "    <tr>\n",
              "      <th>Max_Elevation</th>\n",
              "      <td>0.004451</td>\n",
              "      <td>0.000183</td>\n",
              "      <td>0.036855</td>\n",
              "      <td>-0.028375</td>\n",
              "      <td>0.047625</td>\n",
              "      <td>-0.009186</td>\n",
              "      <td>0.019970</td>\n",
              "      <td>1.000000</td>\n",
              "      <td>-0.030513</td>\n",
              "      <td>0.173436</td>\n",
              "      <td>0.008576</td>\n",
              "    </tr>\n",
              "    <tr>\n",
              "      <th>Violations</th>\n",
              "      <td>0.041735</td>\n",
              "      <td>-0.016724</td>\n",
              "      <td>-0.019005</td>\n",
              "      <td>-0.003284</td>\n",
              "      <td>0.013171</td>\n",
              "      <td>0.018619</td>\n",
              "      <td>0.046379</td>\n",
              "      <td>-0.030513</td>\n",
              "      <td>1.000000</td>\n",
              "      <td>-0.021578</td>\n",
              "      <td>-0.002047</td>\n",
              "    </tr>\n",
              "    <tr>\n",
              "      <th>Adverse_Weather_Metric</th>\n",
              "      <td>-0.107925</td>\n",
              "      <td>0.040804</td>\n",
              "      <td>-0.002713</td>\n",
              "      <td>-0.028296</td>\n",
              "      <td>0.039802</td>\n",
              "      <td>-0.026647</td>\n",
              "      <td>-0.739361</td>\n",
              "      <td>0.173436</td>\n",
              "      <td>-0.021578</td>\n",
              "      <td>1.000000</td>\n",
              "      <td>0.008586</td>\n",
              "    </tr>\n",
              "    <tr>\n",
              "      <th>Accident_ID</th>\n",
              "      <td>-0.001334</td>\n",
              "      <td>0.000582</td>\n",
              "      <td>0.004527</td>\n",
              "      <td>0.006481</td>\n",
              "      <td>-0.014396</td>\n",
              "      <td>0.014865</td>\n",
              "      <td>-0.012278</td>\n",
              "      <td>0.008576</td>\n",
              "      <td>-0.002047</td>\n",
              "      <td>0.008586</td>\n",
              "      <td>1.000000</td>\n",
              "    </tr>\n",
              "  </tbody>\n",
              "</table>\n",
              "</div>"
            ],
            "text/plain": [
              "                         Safety_Score  ...  Accident_ID\n",
              "Safety_Score                 1.000000  ...    -0.001334\n",
              "Days_Since_Inspection       -0.685386  ...     0.000582\n",
              "Total_Safety_Complaints      0.057726  ...     0.004527\n",
              "Control_Metric               0.000564  ...     0.006481\n",
              "Turbulence_In_gforces        0.019603  ...    -0.014396\n",
              "Cabin_Temperature            0.032747  ...     0.014865\n",
              "Accident_Type_Code           0.173930  ...    -0.012278\n",
              "Max_Elevation                0.004451  ...     0.008576\n",
              "Violations                   0.041735  ...    -0.002047\n",
              "Adverse_Weather_Metric      -0.107925  ...     0.008586\n",
              "Accident_ID                 -0.001334  ...     1.000000\n",
              "\n",
              "[11 rows x 11 columns]"
            ]
          },
          "metadata": {
            "tags": []
          },
          "execution_count": 8
        }
      ]
    },
    {
      "cell_type": "code",
      "metadata": {
        "id": "zy61S_wEDKdh",
        "colab_type": "code",
        "colab": {
          "base_uri": "https://localhost:8080/",
          "height": 251
        },
        "outputId": "f1f8b0e9-0915-4c43-d508-62d9b03abb0c"
      },
      "source": [
        "df.isna().sum()"
      ],
      "execution_count": 11,
      "outputs": [
        {
          "output_type": "execute_result",
          "data": {
            "text/plain": [
              "Severity                   0\n",
              "Safety_Score               0\n",
              "Days_Since_Inspection      0\n",
              "Total_Safety_Complaints    0\n",
              "Control_Metric             0\n",
              "Turbulence_In_gforces      0\n",
              "Cabin_Temperature          0\n",
              "Accident_Type_Code         0\n",
              "Max_Elevation              0\n",
              "Violations                 0\n",
              "Adverse_Weather_Metric     0\n",
              "Accident_ID                0\n",
              "dtype: int64"
            ]
          },
          "metadata": {
            "tags": []
          },
          "execution_count": 11
        }
      ]
    },
    {
      "cell_type": "code",
      "metadata": {
        "id": "9hKGAX0FFXKx",
        "colab_type": "code",
        "colab": {}
      },
      "source": [
        "#Encoding the target values\n",
        "from sklearn.preprocessing import LabelEncoder\n",
        "labelencoder=LabelEncoder()\n",
        "df['Severity']=labelencoder.fit_transform(df['Severity'])"
      ],
      "execution_count": 12,
      "outputs": []
    },
    {
      "cell_type": "code",
      "metadata": {
        "id": "U4Fne2f9q4uu",
        "colab_type": "code",
        "colab": {
          "base_uri": "https://localhost:8080/",
          "height": 71
        },
        "outputId": "df5188bb-00ae-4033-b581-ea1db9fc83bc"
      },
      "source": [
        "#Encoded Labels\n",
        "labelencoder.classes_"
      ],
      "execution_count": 29,
      "outputs": [
        {
          "output_type": "execute_result",
          "data": {
            "text/plain": [
              "array(['Highly_Fatal_And_Damaging', 'Minor_Damage_And_Injuries',\n",
              "       'Significant_Damage_And_Fatalities',\n",
              "       'Significant_Damage_And_Serious_Injuries'], dtype=object)"
            ]
          },
          "metadata": {
            "tags": []
          },
          "execution_count": 29
        }
      ]
    },
    {
      "cell_type": "code",
      "metadata": {
        "id": "x2ao6n4ODQzW",
        "colab_type": "code",
        "colab": {}
      },
      "source": [
        "y=df['Severity']"
      ],
      "execution_count": 13,
      "outputs": []
    },
    {
      "cell_type": "code",
      "metadata": {
        "id": "ZUqcpanzDXBe",
        "colab_type": "code",
        "colab": {}
      },
      "source": [
        "x=df.drop(['Severity'],axis=1)"
      ],
      "execution_count": 14,
      "outputs": []
    },
    {
      "cell_type": "code",
      "metadata": {
        "id": "lTuOjXkmDZPC",
        "colab_type": "code",
        "colab": {}
      },
      "source": [
        "from sklearn.model_selection import train_test_split\n",
        "import random\n",
        "x_train,x_test,y_train,y_test=train_test_split(x,y,test_size=0.2,random_state=random.randint(0,100))"
      ],
      "execution_count": 15,
      "outputs": []
    },
    {
      "cell_type": "code",
      "metadata": {
        "id": "Uds7LFp7Dgpm",
        "colab_type": "code",
        "colab": {
          "base_uri": "https://localhost:8080/",
          "height": 35
        },
        "outputId": "605dd254-e718-4504-de70-4c9c8dc97d99"
      },
      "source": [
        "print(\"Size of x_train: \",len(x_train),\"Size of y_train: \",len(y_train))"
      ],
      "execution_count": 16,
      "outputs": [
        {
          "output_type": "stream",
          "text": [
            "Size of x_train:  8000 Size of y_train:  8000\n"
          ],
          "name": "stdout"
        }
      ]
    },
    {
      "cell_type": "code",
      "metadata": {
        "id": "bNya9AlZF_Wl",
        "colab_type": "code",
        "colab": {
          "base_uri": "https://localhost:8080/",
          "height": 35
        },
        "outputId": "ae82cf53-ec23-4f99-e3f2-0d6ab4cc7887"
      },
      "source": [
        "print(\"Size of x_test: \",len(x_test),\"Size of y_test: \",len(y_test))"
      ],
      "execution_count": 17,
      "outputs": [
        {
          "output_type": "stream",
          "text": [
            "Size of x_test:  2000 Size of y_test:  2000\n"
          ],
          "name": "stdout"
        }
      ]
    },
    {
      "cell_type": "markdown",
      "metadata": {
        "id": "ydNo47XQpLER",
        "colab_type": "text"
      },
      "source": [
        "For building the Model,I will be using the LightGradientBoostingMachine Algorithm"
      ]
    },
    {
      "cell_type": "code",
      "metadata": {
        "id": "c8CE7LpoH8Ur",
        "colab_type": "code",
        "colab": {}
      },
      "source": [
        "#Building the Model\n",
        "import lightgbm as lgb"
      ],
      "execution_count": 18,
      "outputs": []
    },
    {
      "cell_type": "code",
      "metadata": {
        "id": "xyGCEOstIFWz",
        "colab_type": "code",
        "colab": {}
      },
      "source": [
        "#Dataset for the LightGradientBoostingMachine\n",
        "d_train=lgb.Dataset(x_train,label=y_train)"
      ],
      "execution_count": 19,
      "outputs": []
    },
    {
      "cell_type": "code",
      "metadata": {
        "id": "J_dJHel5Io4q",
        "colab_type": "code",
        "colab": {}
      },
      "source": [
        "#Setting the parameters for the model\n",
        "params = {}\n",
        "params['num_boost_round']=2000\n",
        "params['stratified']=True\n",
        "params['nfold']=5\n",
        "\n",
        "params['learning_rate'] = 0.05\n",
        "params['boosting_type'] = 'gbdt'\n",
        "params['objective'] = 'multiclass'\n",
        "params['num_class']=4\n",
        "params['metric'] = 'multi_error'\n",
        "\n",
        "params['num_leaves'] = 60\n",
        "params['max_depth'] = 9\n",
        "params['feature_fraction']=0.45\n",
        "params['bagging_fraction']=0.3\n",
        "\n",
        "params['reg_alpha']=0.15\n",
        "params['reg_lambda']=0.15\n",
        "params['min_child_weight']=0"
      ],
      "execution_count": 20,
      "outputs": []
    },
    {
      "cell_type": "code",
      "metadata": {
        "id": "82QJ_E0fIwNb",
        "colab_type": "code",
        "colab": {
          "base_uri": "https://localhost:8080/",
          "height": 53
        },
        "outputId": "88cee685-3ee2-4246-ef52-aa912bbe8a6c"
      },
      "source": [
        "clf = lgb.train(params, d_train, 100)"
      ],
      "execution_count": 21,
      "outputs": [
        {
          "output_type": "stream",
          "text": [
            "/usr/local/lib/python3.6/dist-packages/lightgbm/engine.py:118: UserWarning: Found `num_boost_round` in params. Will use it instead of argument\n",
            "  warnings.warn(\"Found `{}` in params. Will use it instead of argument\".format(alias))\n"
          ],
          "name": "stderr"
        }
      ]
    },
    {
      "cell_type": "code",
      "metadata": {
        "id": "qt53NsKrI2mX",
        "colab_type": "code",
        "colab": {}
      },
      "source": [
        "y_pred=clf.predict(x_test)"
      ],
      "execution_count": 22,
      "outputs": []
    },
    {
      "cell_type": "code",
      "metadata": {
        "id": "AcOipv-mJCH4",
        "colab_type": "code",
        "colab": {}
      },
      "source": [
        "y_pred_index=np.argmax(y_pred,1)"
      ],
      "execution_count": 23,
      "outputs": []
    },
    {
      "cell_type": "code",
      "metadata": {
        "id": "v9KcBptyJDLq",
        "colab_type": "code",
        "colab": {}
      },
      "source": [
        "y_test=y_test.to_numpy()"
      ],
      "execution_count": 24,
      "outputs": []
    },
    {
      "cell_type": "code",
      "metadata": {
        "id": "wBqQfCaRJhJ6",
        "colab_type": "code",
        "colab": {
          "base_uri": "https://localhost:8080/",
          "height": 89
        },
        "outputId": "ed9327f9-a8e4-4e76-dc8e-6df36348ca49"
      },
      "source": [
        "#Printing the Confusion Matrix\n",
        "from sklearn.metrics import confusion_matrix,classification_report,accuracy_score\n",
        "confusion_matrix(y_test,y_pred_index)"
      ],
      "execution_count": 25,
      "outputs": [
        {
          "output_type": "execute_result",
          "data": {
            "text/plain": [
              "array([[549,  17,   8,   4],\n",
              "       [  7, 488,   6,   7],\n",
              "       [ 20,   1, 319,   4],\n",
              "       [  8,  18,  13, 531]])"
            ]
          },
          "metadata": {
            "tags": []
          },
          "execution_count": 25
        }
      ]
    },
    {
      "cell_type": "code",
      "metadata": {
        "id": "pNCneltJRIqO",
        "colab_type": "code",
        "colab": {
          "base_uri": "https://localhost:8080/",
          "height": 215
        },
        "outputId": "7903cfd3-7e59-4929-c05e-607730e27d42"
      },
      "source": [
        "#Printing The Classification Report\n",
        "target_name=['{}'.format(i) for i in labelencoder.classes_]\n",
        "print(classification_report(y_test,y_pred_index,target_names=target_name))\n"
      ],
      "execution_count": 30,
      "outputs": [
        {
          "output_type": "stream",
          "text": [
            "                                         precision    recall  f1-score   support\n",
            "\n",
            "              Highly_Fatal_And_Damaging       0.94      0.95      0.94       578\n",
            "              Minor_Damage_And_Injuries       0.93      0.96      0.95       508\n",
            "      Significant_Damage_And_Fatalities       0.92      0.93      0.92       344\n",
            "Significant_Damage_And_Serious_Injuries       0.97      0.93      0.95       570\n",
            "\n",
            "                               accuracy                           0.94      2000\n",
            "                              macro avg       0.94      0.94      0.94      2000\n",
            "                           weighted avg       0.94      0.94      0.94      2000\n",
            "\n"
          ],
          "name": "stdout"
        }
      ]
    },
    {
      "cell_type": "code",
      "metadata": {
        "id": "Sg8EvwnMRndH",
        "colab_type": "code",
        "colab": {
          "base_uri": "https://localhost:8080/",
          "height": 35
        },
        "outputId": "03f8e8cb-244f-49c3-caee-8a9792fdaa12"
      },
      "source": [
        "#Printing the Accuracy Score\n",
        "accuracy_score(y_test,y_pred_index)"
      ],
      "execution_count": 27,
      "outputs": [
        {
          "output_type": "execute_result",
          "data": {
            "text/plain": [
              "0.9435"
            ]
          },
          "metadata": {
            "tags": []
          },
          "execution_count": 27
        }
      ]
    },
    {
      "cell_type": "markdown",
      "metadata": {
        "id": "VwiBJSVHqF4y",
        "colab_type": "text"
      },
      "source": [
        "We got an Accuracy of around 94% on the Test Set"
      ]
    }
  ]
}